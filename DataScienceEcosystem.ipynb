{
 "cells": [
  {
   "cell_type": "markdown",
   "id": "118345ed-1092-4886-847c-aa257839142d",
   "metadata": {},
   "source": [
    "# Data Science Tools and Ecosystem"
   ]
  },
  {
   "cell_type": "markdown",
   "id": "8a2c9f2f-ed0c-4066-8553-5a736b5fd860",
   "metadata": {},
   "source": [
    "## Author\n",
    "Kenan Esau"
   ]
  },
  {
   "cell_type": "markdown",
   "id": "90c124c4-ac0f-404b-bb19-2b45e1be1841",
   "metadata": {},
   "source": [
    "In this notebook, Data Science Tools and Ecosystem are summarized."
   ]
  },
  {
   "cell_type": "markdown",
   "id": "67c689c4-faa0-4bc1-9360-4c2cb9299b4e",
   "metadata": {},
   "source": [
    "**Objectives**\n",
    "- Basic use of Markdown\n",
    "- List popular Languages, Libraries and Tools\n",
    "- Do some basic Python"
   ]
  },
  {
   "cell_type": "markdown",
   "id": "59a2853e-ea66-4d9e-a462-f9d816b8c19f",
   "metadata": {},
   "source": [
    "Some of the popular languages that Data Scientists use are:\n",
    "1. Python\n",
    "2. R\n",
    "3. SQL\n",
    "4. Java\n",
    "5. Scala\n",
    "6. Julia"
   ]
  },
  {
   "cell_type": "markdown",
   "id": "ece38df5-ea19-4c17-a649-5a258ea175fe",
   "metadata": {},
   "source": [
    "Some of the commonly used libraries used by Data Scientists include:\n",
    "1. TensorFlow\n",
    "2. Pandas\n",
    "3. Scikit-learn\n",
    "4. Matplotlib\n",
    "5. Seaborn"
   ]
  },
  {
   "cell_type": "markdown",
   "id": "72cfdf58-5fa3-4088-adf7-33163e007c55",
   "metadata": {},
   "source": [
    "| Data Science Tools |\n",
    "|-------------|\n",
    "| Spyder |\n",
    "| Jupyter Notebook / Lab |\n",
    "| RStudio |\n",
    "| PyCharm |"
   ]
  },
  {
   "cell_type": "markdown",
   "id": "9a3179bd-1914-4b5c-bda6-5fc29ec20a88",
   "metadata": {},
   "source": [
    "### Below are a few examples of evaluating arithmetic expressions in Python"
   ]
  },
  {
   "cell_type": "code",
   "execution_count": 4,
   "id": "361f4216-0d07-488a-a777-5b00adf6b736",
   "metadata": {},
   "outputs": [
    {
     "data": {
      "text/plain": [
       "17"
      ]
     },
     "execution_count": 4,
     "metadata": {},
     "output_type": "execute_result"
    }
   ],
   "source": [
    "# This a simple arithmetic expression to mutiply then add integers.\n",
    "(3*4)+5"
   ]
  },
  {
   "cell_type": "code",
   "execution_count": 21,
   "id": "3bafb993-28d0-4b9c-9bdc-152ead0eaf22",
   "metadata": {},
   "outputs": [
    {
     "name": "stdout",
     "output_type": "stream",
     "text": [
      " 3h 20min\n"
     ]
    }
   ],
   "source": [
    "# This will convert 200 minutes to hours by diving by 60\n",
    "import math\n",
    "hours_minutes = divmod(200, 60)\n",
    "print (\"%2dh %2dmin\" % (hours_minutes[0], hours_minutes[1]))"
   ]
  },
  {
   "cell_type": "code",
   "execution_count": null,
   "id": "90b48419-5e4f-483b-a9c5-68968e7cf7aa",
   "metadata": {},
   "outputs": [],
   "source": []
  }
 ],
 "metadata": {
  "kernelspec": {
   "display_name": "Python 3 (Spyder)",
   "language": "python3",
   "name": "python3"
  },
  "language_info": {
   "codemirror_mode": {
    "name": "ipython",
    "version": 3
   },
   "file_extension": ".py",
   "mimetype": "text/x-python",
   "name": "python",
   "nbconvert_exporter": "python",
   "pygments_lexer": "ipython3",
   "version": "3.12.3"
  }
 },
 "nbformat": 4,
 "nbformat_minor": 5
}
